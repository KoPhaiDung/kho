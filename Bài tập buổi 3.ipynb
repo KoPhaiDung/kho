{
 "cells": [
  {
   "cell_type": "code",
   "execution_count": 3,
   "id": "55dc8170",
   "metadata": {},
   "outputs": [
    {
     "name": "stdout",
     "output_type": "stream",
     "text": [
      "249321\n"
     ]
    }
   ],
   "source": [
    "xau=input()\n",
    "xau=int(xau[::-1])\n",
    "print(xau)"
   ]
  },
  {
   "cell_type": "code",
   "execution_count": null,
   "id": "4f0dea2c",
   "metadata": {},
   "outputs": [],
   "source": [
    "a,b=map(int,input().split())\n",
    "a=a^b\n",
    "b=a^b\n",
    "a=a^b\n",
    "print(a,b)"
   ]
  },
  {
   "cell_type": "code",
   "execution_count": null,
   "id": "4b4c472a",
   "metadata": {},
   "outputs": [],
   "source": [
    "bien=int(input())\n",
    "if bien&(bien-1)==0:\n",
    "    print(\"True\")\n",
    "else: print(\"False\")"
   ]
  },
  {
   "cell_type": "code",
   "execution_count": null,
   "id": "5a07bd65",
   "metadata": {},
   "outputs": [
    {
     "name": "stdout",
     "output_type": "stream",
     "text": [
      "9\n"
     ]
    }
   ],
   "source": [
    "m,n=map(int,input().split())\n",
    "print(int(format(m/n,'.0f'))-1)"
   ]
  },
  {
   "cell_type": "code",
   "execution_count": 16,
   "id": "73de423a",
   "metadata": {},
   "outputs": [
    {
     "name": "stdout",
     "output_type": "stream",
     "text": [
      "1\n"
     ]
    }
   ],
   "source": [
    "m,n=map(int,input().split())\n",
    "print(int(format(m/n,'.0f')))"
   ]
  },
  {
   "cell_type": "code",
   "execution_count": null,
   "id": "da3b7c6e",
   "metadata": {},
   "outputs": [],
   "source": [
    "x=int(input())\n",
    "if(x%2==0):\n",
    "    print(\"Even\")\n",
    "else:\n",
    "    print(\"Odd\")"
   ]
  },
  {
   "cell_type": "code",
   "execution_count": null,
   "id": "784364bf",
   "metadata": {},
   "outputs": [],
   "source": [
    "a=int(input())\n",
    "b=int(input())\n",
    "if(a<0 and b<0):\n",
    "    print('Yes')\n",
    "else: print('No')"
   ]
  },
  {
   "cell_type": "code",
   "execution_count": null,
   "id": "18622b14",
   "metadata": {},
   "outputs": [],
   "source": [
    "a=input()\n",
    "b=input()\n",
    "if len(a)>len(b):\n",
    "\tprint(\"True\")\n",
    "else:\n",
    "\tprint(\"False\")"
   ]
  },
  {
   "cell_type": "code",
   "execution_count": null,
   "id": "981e1d54",
   "metadata": {},
   "outputs": [],
   "source": [
    "a=int(input())\n",
    "b=int(input())\n",
    "c=int(input())\n",
    "if a+b>c and a+c>b and b+c>a:\n",
    "    print(\"Yes\")\n",
    "else: print(\"No\")"
   ]
  },
  {
   "cell_type": "code",
   "execution_count": null,
   "id": "1bb7887e",
   "metadata": {},
   "outputs": [],
   "source": [
    "a=int(input())\n",
    "b=int(input())\n",
    "c=int(input())\n",
    "d=int(input())\n",
    "print(max(a,b,c,d))"
   ]
  },
  {
   "cell_type": "code",
   "execution_count": null,
   "id": "22b471fc",
   "metadata": {},
   "outputs": [],
   "source": [
    "a,b,c=map(int,input().split())\n",
    "def check(a,b,c):\n",
    "    if a+b>c and a+c>b and b+c>a:\n",
    "        if a==b and b==c and a==c:\n",
    "            return 'Tam giác đều'\n",
    "        if a==b or b==c or a==c :\n",
    "            return 'Tam giác cân'\n",
    "    else: return 'Không phải tam giác'\n",
    "print(check(a,b,c))"
   ]
  },
  {
   "cell_type": "code",
   "execution_count": null,
   "id": "4d549e82",
   "metadata": {},
   "outputs": [],
   "source": [
    "nam=int(input())\n",
    "if (nam%4==0 and nam%100!=0) or (nam%400==0):\n",
    "    print(\"Yes\")\n",
    "else: print(\"No\")"
   ]
  },
  {
   "cell_type": "code",
   "execution_count": null,
   "id": "d58f86ec",
   "metadata": {},
   "outputs": [],
   "source": [
    "a=int(input())\n",
    "if a>=100:\n",
    "    print((a-100)*3000+50*1500+50*2000)\n",
    "if a<100 and a>=50:\n",
    "    print((a-50)*2000+50*1500)\n",
    "if a<50:\n",
    "    print(a*1500)\n"
   ]
  },
  {
   "cell_type": "code",
   "execution_count": null,
   "id": "a3d85480",
   "metadata": {},
   "outputs": [],
   "source": [
    "a=float(input())\n",
    "b=float(input())\n",
    "if b==0 :\n",
    "    print('Vô số nghiệm')\n",
    "elif a==0:\n",
    "    print('Vô nghiệm')\n",
    "else: print(format(-b/a,'.2f'))"
   ]
  },
  {
   "cell_type": "code",
   "execution_count": null,
   "id": "89be5acd",
   "metadata": {},
   "outputs": [],
   "source": [
    "a=float(input())\n",
    "b=3\n",
    "b=a*10\n",
    "a=int(a)*10\n",
    "if b-a==0:\n",
    "    a=a/10\n",
    "    print(a,a,a)\n",
    "if abs(b-a)>0 and abs(b-a)<5:\n",
    "    if a>0:\n",
    "        print(int(a/10+1),int(a/10),int(a/10))\n",
    "    else: print(int(a/10),int(a/10-1),int(a/10))\n",
    "if abs(b-a)>=5:\n",
    "    if a>0:\n",
    "        print(int(a/10+1),int(a/10),int(a/10) )\n",
    "    else: print(int(a/10),int(a/10-1),int(a/10-1) )\n"
   ]
  },
  {
   "cell_type": "code",
   "execution_count": null,
   "id": "a8954203",
   "metadata": {},
   "outputs": [],
   "source": [
    "a,b,c=map(int,input().split())\n",
    "def check(a,b,c):\n",
    "    if a+b>c and a+c>b and b+c>a:\n",
    "        if a==b and b==c and a==c:\n",
    "            return 'Tam giác đều'\n",
    "        if a==b or b==c or a==c :\n",
    "            return 'Tam giác cân'\n",
    "    else: return 'Không phải tam giác'\n",
    "print(check(a,b,c))"
   ]
  }
 ],
 "metadata": {
  "kernelspec": {
   "display_name": "Python 3",
   "language": "python",
   "name": "python3"
  },
  "language_info": {
   "codemirror_mode": {
    "name": "ipython",
    "version": 3
   },
   "file_extension": ".py",
   "mimetype": "text/x-python",
   "name": "python",
   "nbconvert_exporter": "python",
   "pygments_lexer": "ipython3",
   "version": "3.13.5"
  }
 },
 "nbformat": 4,
 "nbformat_minor": 5
}
