{
 "cells": [
  {
   "cell_type": "code",
   "execution_count": 2,
   "id": "19e4128d",
   "metadata": {},
   "outputs": [
    {
     "name": "stdout",
     "output_type": "stream",
     "text": [
      "54321\n"
     ]
    }
   ],
   "source": [
    "bien=input()\n",
    "bien=int(bien[::-1])\n",
    "print(bien)\n"
   ]
  },
  {
   "cell_type": "code",
   "execution_count": 4,
   "id": "320d8cd3",
   "metadata": {},
   "outputs": [
    {
     "name": "stdout",
     "output_type": "stream",
     "text": [
      "3 2\n"
     ]
    }
   ],
   "source": [
    "a,b=map(int,input().split())\n",
    "a=a^b\n",
    "b=a^b\n",
    "a=a^b\n",
    "print(a,b)"
   ]
  },
  {
   "cell_type": "code",
   "execution_count": 2,
   "id": "e71d6db8",
   "metadata": {},
   "outputs": [
    {
     "name": "stdout",
     "output_type": "stream",
     "text": [
      "True\n"
     ]
    }
   ],
   "source": [
    "bien=int(input())\n",
    "if bien&(bien-1)==0:\n",
    "    print(\"True\")\n",
    "else: print(\"False\")"
   ]
  },
  {
   "cell_type": "code",
   "execution_count": null,
   "id": "11d20e6d",
   "metadata": {},
   "outputs": [
    {
     "name": "stdout",
     "output_type": "stream",
     "text": [
      "1166\n"
     ]
    }
   ],
   "source": [
    "m,n=map(int,input().split())\n",
    "if format(m/n,'.0f)<m/n:\n",
    "    print(format(m/n,'.0f')+1)"
   ]
  },
  {
   "cell_type": "code",
   "execution_count": null,
   "id": "98ee96b7",
   "metadata": {},
   "outputs": [],
   "source": [
    "x=int(input())\n",
    "if(x%2==0):\n",
    "    print(\"Even\")\n",
    "else:\n",
    "    print(\"Odd\")"
   ]
  },
  {
   "cell_type": "code",
   "execution_count": null,
   "id": "bf2c3ca4",
   "metadata": {},
   "outputs": [
    {
     "name": "stdout",
     "output_type": "stream",
     "text": [
      "No\n"
     ]
    }
   ],
   "source": [
    "a=int(input())\n",
    "b=int(input())\n",
    "if(a<0 and b<0):\n",
    "    print('Yes')\n",
    "else: print('No')"
   ]
  },
  {
   "cell_type": "code",
   "execution_count": 2,
   "id": "8e9c8da2",
   "metadata": {},
   "outputs": [
    {
     "name": "stdout",
     "output_type": "stream",
     "text": [
      "True\n"
     ]
    }
   ],
   "source": [
    "a=input()\n",
    "b=input()\n",
    "if len(a)>len(b):\n",
    "\tprint(\"True\")\n",
    "else:\n",
    "\tprint(\"False\")"
   ]
  },
  {
   "cell_type": "code",
   "execution_count": 7,
   "id": "9a683ea6",
   "metadata": {},
   "outputs": [
    {
     "name": "stdout",
     "output_type": "stream",
     "text": [
      "Yes\n"
     ]
    }
   ],
   "source": [
    "a=int(input())\n",
    "b=int(input())\n",
    "c=int(input())\n",
    "if a+b>c and a+c>b and b+c>a:\n",
    "    print(\"Yes\")\n",
    "else: print(\"No\")"
   ]
  },
  {
   "cell_type": "code",
   "execution_count": 8,
   "id": "e27312a9",
   "metadata": {},
   "outputs": [
    {
     "name": "stdout",
     "output_type": "stream",
     "text": [
      "4\n"
     ]
    }
   ],
   "source": [
    "a=int(input())\n",
    "b=int(input())\n",
    "c=int(input())\n",
    "d=int(input())\n",
    "print(max(a,b,c,d))"
   ]
  },
  {
   "cell_type": "code",
   "execution_count": 4,
   "id": "1f288175",
   "metadata": {},
   "outputs": [
    {
     "name": "stdout",
     "output_type": "stream",
     "text": [
      "Khong phai tam giac\n"
     ]
    }
   ],
   "source": [
    "a,b,c=map(int,input().split())\n",
    "if a+b>c and a+c>b and b+c>a:\n",
    "    if a==b and b==c and a==c:\n",
    "        print(\"Tam giac deu\")\n",
    "    elif a==b or b==c or a==c:\n",
    "        print(\"Tam giac can\")\n",
    "else: print(\"Khong phai tam giac\")\n",
    "    "
   ]
  },
  {
   "cell_type": "code",
   "execution_count": 9,
   "id": "a1cb0f2e",
   "metadata": {},
   "outputs": [
    {
     "name": "stdout",
     "output_type": "stream",
     "text": [
      "Yes\n"
     ]
    }
   ],
   "source": [
    "nam=int(input())\n",
    "if (nam%4==0 and nam%100!=0) or (nam%400==0):\n",
    "    print(\"Yes\")\n",
    "else: print(\"No\")"
   ]
  },
  {
   "cell_type": "code",
   "execution_count": 17,
   "id": "430ee30f",
   "metadata": {},
   "outputs": [
    {
     "name": "stdout",
     "output_type": "stream",
     "text": [
      "175000\n"
     ]
    }
   ],
   "source": [
    "a=int(input())\n",
    "if a>=100:\n",
    "    print((a-100)*3000+50*1500+50*2000)\n",
    "if a<100 and a>=50:\n",
    "    print((a-50)*2000+50*1500)\n",
    "if a<50:\n",
    "    print(a*1500)\n"
   ]
  },
  {
   "cell_type": "code",
   "execution_count": 27,
   "id": "683361bf",
   "metadata": {},
   "outputs": [
    {
     "name": "stdout",
     "output_type": "stream",
     "text": [
      "-430.87\n"
     ]
    }
   ],
   "source": [
    "a=float(input())\n",
    "b=float(input())\n",
    "if b==0 :\n",
    "    print('Vô số nghiệm')\n",
    "elif a==0:\n",
    "    print('Vô nghiệm')\n",
    "else: print(format(-b/a,'.2f'))"
   ]
  },
  {
   "cell_type": "code",
   "execution_count": 32,
   "id": "8cf365c4",
   "metadata": {},
   "outputs": [
    {
     "name": "stdout",
     "output_type": "stream",
     "text": [
      "Giỏi\n"
     ]
    }
   ],
   "source": [
    "a=float(input())\n",
    "if a>=8:\n",
    "    print(\"Giỏi\")\n",
    "elif a>=6.5:\n",
    "    print(\"Khá\")\n",
    "elif a>=5:\n",
    "    print(\"Trung bình\")\n",
    "elif a<5:\n",
    "    print(\"Yếu\")"
   ]
  },
  {
   "cell_type": "code",
   "execution_count": null,
   "id": "383c52e0",
   "metadata": {},
   "outputs": [
    {
     "name": "stdout",
     "output_type": "stream",
     "text": [
      "-5 -6 -6\n"
     ]
    }
   ],
   "source": [
    "a=float(input())\n",
    "b=3\n",
    "b=a*10\n",
    "a=int(a)*10\n",
    "if b-a==0:\n",
    "    a=a/10\n",
    "    print(a,a,a)\n",
    "if abs(b-a)>0 and abs(b-a)<5:\n",
    "    if a>0:\n",
    "        print(int(a/10+1),int(a/10),int(a/10))\n",
    "    else: print(int(a/10),int(a/10-1),int(a/10))\n",
    "if abs(b-a)>=5:\n",
    "    if a>0:\n",
    "        print(int(a/10+1),int(a/10),int(a/10) )\n",
    "    else: print(int(a/10),int(a/10-1),int(a/10-1) )\n"
   ]
  },
  {
   "cell_type": "code",
   "execution_count": null,
   "id": "21158c8d",
   "metadata": {},
   "outputs": [
    {
     "name": "stdout",
     "output_type": "stream",
     "text": [
      "Không phải tam giác\n"
     ]
    }
   ],
   "source": [
    "a,b,c=map(int,input().split())\n",
    "def check(a,b,c):\n",
    "    if a+b>c and a+c>b and b+c>a:\n",
    "        if a==b and b==c and a==c:\n",
    "            return 'Tam giác đều'\n",
    "        if a==b or b==c or a==c :\n",
    "            return 'Tam giác cân'\n",
    "    else: return 'Không phải tam giác'\n",
    "print(check(a,b,c))"
   ]
  }
 ],
 "metadata": {
  "kernelspec": {
   "display_name": "Python 3",
   "language": "python",
   "name": "python3"
  },
  "language_info": {
   "codemirror_mode": {
    "name": "ipython",
    "version": 3
   },
   "file_extension": ".py",
   "mimetype": "text/x-python",
   "name": "python",
   "nbconvert_exporter": "python",
   "pygments_lexer": "ipython3",
   "version": "3.13.5"
  }
 },
 "nbformat": 4,
 "nbformat_minor": 5
}
