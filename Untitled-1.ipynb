{
 "cells": [
  {
   "cell_type": "code",
   "execution_count": null,
   "id": "19e4128d",
   "metadata": {},
   "outputs": [],
   "source": [
    "a=int(input())\n",
    "print(a*2)\n"
   ]
  },
  {
   "cell_type": "code",
   "execution_count": null,
   "id": "320d8cd3",
   "metadata": {},
   "outputs": [],
   "source": []
  }
 ],
 "metadata": {
  "language_info": {
   "name": "python"
  }
 },
 "nbformat": 4,
 "nbformat_minor": 5
}
